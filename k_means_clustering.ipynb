{
  "nbformat": 4,
  "nbformat_minor": 0,
  "metadata": {
    "colab": {
      "name": "k-means clustering.ipynb",
      "provenance": [],
      "collapsed_sections": [],
      "include_colab_link": true
    },
    "kernelspec": {
      "name": "python3",
      "display_name": "Python 3"
    }
  },
  "cells": [
    {
      "cell_type": "markdown",
      "metadata": {
        "id": "view-in-github",
        "colab_type": "text"
      },
      "source": [
        "<a href=\"https://colab.research.google.com/github/rohithkumar-2001/VITBML_EDA4/blob/master/k_means_clustering.ipynb\" target=\"_parent\"><img src=\"https://colab.research.google.com/assets/colab-badge.svg\" alt=\"Open In Colab\"/></a>"
      ]
    },
    {
      "cell_type": "markdown",
      "metadata": {
        "id": "BU67BcC7bpsn",
        "colab_type": "text"
      },
      "source": [
        "#               **K-MEANS CLUSTERING**\n",
        "#* we load the data sets of covid-19 cases from the github repository.\n",
        "#* Here the datasets are given datewise.So we want to  load all the datasets and those data sets can combined in to one dataset by using pandas library.\n",
        "#* In the data sets we observed the columns which are:\n",
        "#1.Country/Region:-country of the covid cases.\n",
        "#2.Last Update:-date and time of updation of the cases.\n",
        "#3.Latitude:-on which latitude the country is located.\n",
        "#4.Longitude:-on which longitude the country is present.\n",
        "#5.Confirmed:-total number of confirmed cases.\n",
        "#6.Deaths:-total number of confirmed deaths.\n",
        "#7.Recovered:-total no of deaths due to the virus.\n",
        "#8.Province/State:-state or city of the covid cases.\n",
        "#* All the datasets doesn't contain same columns,But contains some columns same.\n",
        "#* Later we clean the datasets month wise then we combine the all three months dataset in to one dataset. "
      ]
    },
    {
      "cell_type": "markdown",
      "metadata": {
        "id": "hAyH_n4LfP5z",
        "colab_type": "text"
      },
      "source": [
        "#* we load the datasets date wise from the github repository of the month of january.\n",
        "#* since we want to load multiple datasets ,we use for loop.\n",
        "#* After that we append all the readed datasets in to january list for simplification.\n",
        "#* later we drop the rows in which province/state name is not mentioned.\n",
        "#* Then we drop the all columns except confirmed,deaths,recovered,province/state.\n",
        "#* Then province/state is setted as index.\n",
        "#* All the nan values in confirmed,deaths,recovered all filled with zeros.\n",
        "#* Finally we cleaned and combined all the datasets of month january in to one dataset.\n"
      ]
    },
    {
      "cell_type": "code",
      "metadata": {
        "id": "BzxFD0gus2gs",
        "colab_type": "code",
        "colab": {}
      },
      "source": [
        "import pandas as pd\n",
        "january=[]\n",
        "for i in range(2,10):\n",
        "  x=pd.read_csv('https://raw.githubusercontent.com/CSSEGISandData/COVID-19/master/csse_covid_19_data/csse_covid_19_daily_reports/01-2{}-2020.csv'.format(i))\n",
        "  january.append(x)\n",
        "for j in [0,1]:\n",
        "  y=pd.read_csv('https://raw.githubusercontent.com/CSSEGISandData/COVID-19/master/csse_covid_19_data/csse_covid_19_daily_reports/01-3{}-2020.csv'.format(j))\n",
        "  january.append(y)"
      ],
      "execution_count": 0,
      "outputs": []
    },
    {
      "cell_type": "code",
      "metadata": {
        "id": "koXPKcDZpJot",
        "colab_type": "code",
        "colab": {}
      },
      "source": [
        "for i in range(len(january)):\n",
        "  january[i]=january[i].dropna(subset=['Province/State'],how='any')\n",
        "  january[i]=january[i].drop(['Country/Region','Last Update'],axis=1)\n",
        "  january[i]=january[i].set_index('Province/State')"
      ],
      "execution_count": 0,
      "outputs": []
    },
    {
      "cell_type": "code",
      "metadata": {
        "id": "Z3Z8V9MYC6-P",
        "colab_type": "code",
        "outputId": "06c0ec5c-a551-4981-92f2-7ab836418954",
        "colab": {
          "base_uri": "https://localhost:8080/",
          "height": 1000
        }
      },
      "source": [
        "for i in range(1,len(january)):\n",
        "  january[0]=january[0].add(january[i],fill_value=0)\n",
        "january[0]=january[0].fillna(0)\n",
        "january[0]"
      ],
      "execution_count": 107,
      "outputs": [
        {
          "output_type": "execute_result",
          "data": {
            "text/html": [
              "<div>\n",
              "<style scoped>\n",
              "    .dataframe tbody tr th:only-of-type {\n",
              "        vertical-align: middle;\n",
              "    }\n",
              "\n",
              "    .dataframe tbody tr th {\n",
              "        vertical-align: top;\n",
              "    }\n",
              "\n",
              "    .dataframe thead th {\n",
              "        text-align: right;\n",
              "    }\n",
              "</style>\n",
              "<table border=\"1\" class=\"dataframe\">\n",
              "  <thead>\n",
              "    <tr style=\"text-align: right;\">\n",
              "      <th></th>\n",
              "      <th>Confirmed</th>\n",
              "      <th>Deaths</th>\n",
              "      <th>Recovered</th>\n",
              "    </tr>\n",
              "    <tr>\n",
              "      <th>Province/State</th>\n",
              "      <th></th>\n",
              "      <th></th>\n",
              "      <th></th>\n",
              "    </tr>\n",
              "  </thead>\n",
              "  <tbody>\n",
              "    <tr>\n",
              "      <th>Anhui</th>\n",
              "      <td>889.0</td>\n",
              "      <td>0.0</td>\n",
              "      <td>7.0</td>\n",
              "    </tr>\n",
              "    <tr>\n",
              "      <th>Arizona</th>\n",
              "      <td>6.0</td>\n",
              "      <td>0.0</td>\n",
              "      <td>0.0</td>\n",
              "    </tr>\n",
              "    <tr>\n",
              "      <th>Bavaria</th>\n",
              "      <td>17.0</td>\n",
              "      <td>0.0</td>\n",
              "      <td>0.0</td>\n",
              "    </tr>\n",
              "    <tr>\n",
              "      <th>Beijing</th>\n",
              "      <td>716.0</td>\n",
              "      <td>5.0</td>\n",
              "      <td>24.0</td>\n",
              "    </tr>\n",
              "    <tr>\n",
              "      <th>British Columbia</th>\n",
              "      <td>4.0</td>\n",
              "      <td>0.0</td>\n",
              "      <td>0.0</td>\n",
              "    </tr>\n",
              "    <tr>\n",
              "      <th>California</th>\n",
              "      <td>12.0</td>\n",
              "      <td>0.0</td>\n",
              "      <td>0.0</td>\n",
              "    </tr>\n",
              "    <tr>\n",
              "      <th>Chicago</th>\n",
              "      <td>1.0</td>\n",
              "      <td>0.0</td>\n",
              "      <td>0.0</td>\n",
              "    </tr>\n",
              "    <tr>\n",
              "      <th>Chongqing</th>\n",
              "      <td>956.0</td>\n",
              "      <td>0.0</td>\n",
              "      <td>3.0</td>\n",
              "    </tr>\n",
              "    <tr>\n",
              "      <th>Fujian</th>\n",
              "      <td>513.0</td>\n",
              "      <td>0.0</td>\n",
              "      <td>0.0</td>\n",
              "    </tr>\n",
              "    <tr>\n",
              "      <th>Gansu</th>\n",
              "      <td>127.0</td>\n",
              "      <td>0.0</td>\n",
              "      <td>0.0</td>\n",
              "    </tr>\n",
              "    <tr>\n",
              "      <th>Guangdong</th>\n",
              "      <td>1725.0</td>\n",
              "      <td>0.0</td>\n",
              "      <td>42.0</td>\n",
              "    </tr>\n",
              "    <tr>\n",
              "      <th>Guangxi</th>\n",
              "      <td>409.0</td>\n",
              "      <td>0.0</td>\n",
              "      <td>8.0</td>\n",
              "    </tr>\n",
              "    <tr>\n",
              "      <th>Guizhou</th>\n",
              "      <td>82.0</td>\n",
              "      <td>0.0</td>\n",
              "      <td>4.0</td>\n",
              "    </tr>\n",
              "    <tr>\n",
              "      <th>Hainan</th>\n",
              "      <td>272.0</td>\n",
              "      <td>5.0</td>\n",
              "      <td>2.0</td>\n",
              "    </tr>\n",
              "    <tr>\n",
              "      <th>Hebei</th>\n",
              "      <td>271.0</td>\n",
              "      <td>9.0</td>\n",
              "      <td>0.0</td>\n",
              "    </tr>\n",
              "    <tr>\n",
              "      <th>Heilongjiang</th>\n",
              "      <td>225.0</td>\n",
              "      <td>10.0</td>\n",
              "      <td>0.0</td>\n",
              "    </tr>\n",
              "    <tr>\n",
              "      <th>Henan</th>\n",
              "      <td>1266.0</td>\n",
              "      <td>9.0</td>\n",
              "      <td>6.0</td>\n",
              "    </tr>\n",
              "    <tr>\n",
              "      <th>Hong Kong</th>\n",
              "      <td>65.0</td>\n",
              "      <td>0.0</td>\n",
              "      <td>0.0</td>\n",
              "    </tr>\n",
              "    <tr>\n",
              "      <th>Hubei</th>\n",
              "      <td>22496.0</td>\n",
              "      <td>842.0</td>\n",
              "      <td>605.0</td>\n",
              "    </tr>\n",
              "    <tr>\n",
              "      <th>Hunan</th>\n",
              "      <td>1222.0</td>\n",
              "      <td>0.0</td>\n",
              "      <td>4.0</td>\n",
              "    </tr>\n",
              "    <tr>\n",
              "      <th>Illinois</th>\n",
              "      <td>8.0</td>\n",
              "      <td>0.0</td>\n",
              "      <td>0.0</td>\n",
              "    </tr>\n",
              "    <tr>\n",
              "      <th>Inner Mongolia</th>\n",
              "      <td>96.0</td>\n",
              "      <td>0.0</td>\n",
              "      <td>1.0</td>\n",
              "    </tr>\n",
              "    <tr>\n",
              "      <th>Jiangsu</th>\n",
              "      <td>579.0</td>\n",
              "      <td>0.0</td>\n",
              "      <td>11.0</td>\n",
              "    </tr>\n",
              "    <tr>\n",
              "      <th>Jiangxi</th>\n",
              "      <td>773.0</td>\n",
              "      <td>0.0</td>\n",
              "      <td>20.0</td>\n",
              "    </tr>\n",
              "    <tr>\n",
              "      <th>Jilin</th>\n",
              "      <td>63.0</td>\n",
              "      <td>0.0</td>\n",
              "      <td>2.0</td>\n",
              "    </tr>\n",
              "    <tr>\n",
              "      <th>Liaoning</th>\n",
              "      <td>236.0</td>\n",
              "      <td>0.0</td>\n",
              "      <td>3.0</td>\n",
              "    </tr>\n",
              "    <tr>\n",
              "      <th>Macau</th>\n",
              "      <td>46.0</td>\n",
              "      <td>0.0</td>\n",
              "      <td>0.0</td>\n",
              "    </tr>\n",
              "    <tr>\n",
              "      <th>New South Wales</th>\n",
              "      <td>20.0</td>\n",
              "      <td>0.0</td>\n",
              "      <td>4.0</td>\n",
              "    </tr>\n",
              "    <tr>\n",
              "      <th>Ningxia</th>\n",
              "      <td>79.0</td>\n",
              "      <td>0.0</td>\n",
              "      <td>0.0</td>\n",
              "    </tr>\n",
              "    <tr>\n",
              "      <th>Ontario</th>\n",
              "      <td>8.0</td>\n",
              "      <td>0.0</td>\n",
              "      <td>0.0</td>\n",
              "    </tr>\n",
              "    <tr>\n",
              "      <th>Qinghai</th>\n",
              "      <td>36.0</td>\n",
              "      <td>0.0</td>\n",
              "      <td>0.0</td>\n",
              "    </tr>\n",
              "    <tr>\n",
              "      <th>Queensland</th>\n",
              "      <td>5.0</td>\n",
              "      <td>0.0</td>\n",
              "      <td>0.0</td>\n",
              "    </tr>\n",
              "    <tr>\n",
              "      <th>Shaanxi</th>\n",
              "      <td>332.0</td>\n",
              "      <td>0.0</td>\n",
              "      <td>0.0</td>\n",
              "    </tr>\n",
              "    <tr>\n",
              "      <th>Shandong</th>\n",
              "      <td>738.0</td>\n",
              "      <td>0.0</td>\n",
              "      <td>4.0</td>\n",
              "    </tr>\n",
              "    <tr>\n",
              "      <th>Shanghai</th>\n",
              "      <td>580.0</td>\n",
              "      <td>6.0</td>\n",
              "      <td>29.0</td>\n",
              "    </tr>\n",
              "    <tr>\n",
              "      <th>Shanxi</th>\n",
              "      <td>159.0</td>\n",
              "      <td>0.0</td>\n",
              "      <td>3.0</td>\n",
              "    </tr>\n",
              "    <tr>\n",
              "      <th>Sichuan</th>\n",
              "      <td>686.0</td>\n",
              "      <td>3.0</td>\n",
              "      <td>3.0</td>\n",
              "    </tr>\n",
              "    <tr>\n",
              "      <th>Taiwan</th>\n",
              "      <td>52.0</td>\n",
              "      <td>0.0</td>\n",
              "      <td>0.0</td>\n",
              "    </tr>\n",
              "    <tr>\n",
              "      <th>Tianjin</th>\n",
              "      <td>177.0</td>\n",
              "      <td>0.0</td>\n",
              "      <td>0.0</td>\n",
              "    </tr>\n",
              "    <tr>\n",
              "      <th>Tibet</th>\n",
              "      <td>2.0</td>\n",
              "      <td>0.0</td>\n",
              "      <td>0.0</td>\n",
              "    </tr>\n",
              "    <tr>\n",
              "      <th>Victoria</th>\n",
              "      <td>8.0</td>\n",
              "      <td>0.0</td>\n",
              "      <td>0.0</td>\n",
              "    </tr>\n",
              "    <tr>\n",
              "      <th>Washington</th>\n",
              "      <td>10.0</td>\n",
              "      <td>0.0</td>\n",
              "      <td>0.0</td>\n",
              "    </tr>\n",
              "    <tr>\n",
              "      <th>Xinjiang</th>\n",
              "      <td>70.0</td>\n",
              "      <td>0.0</td>\n",
              "      <td>0.0</td>\n",
              "    </tr>\n",
              "    <tr>\n",
              "      <th>Yunnan</th>\n",
              "      <td>313.0</td>\n",
              "      <td>0.0</td>\n",
              "      <td>1.0</td>\n",
              "    </tr>\n",
              "    <tr>\n",
              "      <th>Zhejiang</th>\n",
              "      <td>1809.0</td>\n",
              "      <td>0.0</td>\n",
              "      <td>28.0</td>\n",
              "    </tr>\n",
              "  </tbody>\n",
              "</table>\n",
              "</div>"
            ],
            "text/plain": [
              "                  Confirmed  Deaths  Recovered\n",
              "Province/State                                \n",
              "Anhui                 889.0     0.0        7.0\n",
              "Arizona                 6.0     0.0        0.0\n",
              "Bavaria                17.0     0.0        0.0\n",
              "Beijing               716.0     5.0       24.0\n",
              "British Columbia        4.0     0.0        0.0\n",
              "California             12.0     0.0        0.0\n",
              "Chicago                 1.0     0.0        0.0\n",
              "Chongqing             956.0     0.0        3.0\n",
              "Fujian                513.0     0.0        0.0\n",
              "Gansu                 127.0     0.0        0.0\n",
              "Guangdong            1725.0     0.0       42.0\n",
              "Guangxi               409.0     0.0        8.0\n",
              "Guizhou                82.0     0.0        4.0\n",
              "Hainan                272.0     5.0        2.0\n",
              "Hebei                 271.0     9.0        0.0\n",
              "Heilongjiang          225.0    10.0        0.0\n",
              "Henan                1266.0     9.0        6.0\n",
              "Hong Kong              65.0     0.0        0.0\n",
              "Hubei               22496.0   842.0      605.0\n",
              "Hunan                1222.0     0.0        4.0\n",
              "Illinois                8.0     0.0        0.0\n",
              "Inner Mongolia         96.0     0.0        1.0\n",
              "Jiangsu               579.0     0.0       11.0\n",
              "Jiangxi               773.0     0.0       20.0\n",
              "Jilin                  63.0     0.0        2.0\n",
              "Liaoning              236.0     0.0        3.0\n",
              "Macau                  46.0     0.0        0.0\n",
              "New South Wales        20.0     0.0        4.0\n",
              "Ningxia                79.0     0.0        0.0\n",
              "Ontario                 8.0     0.0        0.0\n",
              "Qinghai                36.0     0.0        0.0\n",
              "Queensland              5.0     0.0        0.0\n",
              "Shaanxi               332.0     0.0        0.0\n",
              "Shandong              738.0     0.0        4.0\n",
              "Shanghai              580.0     6.0       29.0\n",
              "Shanxi                159.0     0.0        3.0\n",
              "Sichuan               686.0     3.0        3.0\n",
              "Taiwan                 52.0     0.0        0.0\n",
              "Tianjin               177.0     0.0        0.0\n",
              "Tibet                   2.0     0.0        0.0\n",
              "Victoria                8.0     0.0        0.0\n",
              "Washington             10.0     0.0        0.0\n",
              "Xinjiang               70.0     0.0        0.0\n",
              "Yunnan                313.0     0.0        1.0\n",
              "Zhejiang             1809.0     0.0       28.0"
            ]
          },
          "metadata": {
            "tags": []
          },
          "execution_count": 107
        }
      ]
    },
    {
      "cell_type": "markdown",
      "metadata": {
        "id": "5BN4MSyng-l0",
        "colab_type": "text"
      },
      "source": [
        "#* similarly we made the dataset for the month of February.i,e:all the datasets of february month are combined in to one dataset."
      ]
    },
    {
      "cell_type": "code",
      "metadata": {
        "id": "kz7Mi1JuH9SR",
        "colab_type": "code",
        "colab": {}
      },
      "source": [
        "february=[]\n",
        "for i in range(1,10):\n",
        "  x=pd.read_csv('https://raw.githubusercontent.com/CSSEGISandData/COVID-19/master/csse_covid_19_data/csse_covid_19_daily_reports/02-0{}-2020.csv'.format(i))\n",
        "  february.append(x)\n",
        "for j in range(10):\n",
        "  y=pd.read_csv('https://raw.githubusercontent.com/CSSEGISandData/COVID-19/master/csse_covid_19_data/csse_covid_19_daily_reports/02-1{}-2020.csv'.format(j))\n",
        "  february.append(y)\n",
        "for k in range(10):\n",
        "  z=pd.read_csv('https://raw.githubusercontent.com/CSSEGISandData/COVID-19/master/csse_covid_19_data/csse_covid_19_daily_reports/02-2{}-2020.csv'.format(k))\n",
        "  february.append(z)"
      ],
      "execution_count": 0,
      "outputs": []
    },
    {
      "cell_type": "code",
      "metadata": {
        "id": "Mv-wmCNcvUum",
        "colab_type": "code",
        "colab": {}
      },
      "source": [
        "for i in range(len(february)):\n",
        "  february[i]=february[i].dropna(subset=['Province/State'],how='any')\n",
        "  february[i]=february[i].drop(['Country/Region','Last Update'],axis=1)\n",
        "  february[i]=february[i].set_index('Province/State')"
      ],
      "execution_count": 0,
      "outputs": []
    },
    {
      "cell_type": "code",
      "metadata": {
        "id": "RqMUFizawU-Y",
        "colab_type": "code",
        "outputId": "70db1149-077f-4bd5-a8d0-d4223f2daa58",
        "colab": {
          "base_uri": "https://localhost:8080/",
          "height": 437
        }
      },
      "source": [
        "for i in range(1,len(february)):\n",
        "  february[0]=february[0].add(february[i],fill_value=0)\n",
        "february[0]"
      ],
      "execution_count": 110,
      "outputs": [
        {
          "output_type": "execute_result",
          "data": {
            "text/html": [
              "<div>\n",
              "<style scoped>\n",
              "    .dataframe tbody tr th:only-of-type {\n",
              "        vertical-align: middle;\n",
              "    }\n",
              "\n",
              "    .dataframe tbody tr th {\n",
              "        vertical-align: top;\n",
              "    }\n",
              "\n",
              "    .dataframe thead th {\n",
              "        text-align: right;\n",
              "    }\n",
              "</style>\n",
              "<table border=\"1\" class=\"dataframe\">\n",
              "  <thead>\n",
              "    <tr style=\"text-align: right;\">\n",
              "      <th></th>\n",
              "      <th>Confirmed</th>\n",
              "      <th>Deaths</th>\n",
              "      <th>Recovered</th>\n",
              "    </tr>\n",
              "    <tr>\n",
              "      <th>Province/State</th>\n",
              "      <th></th>\n",
              "      <th></th>\n",
              "      <th></th>\n",
              "    </tr>\n",
              "  </thead>\n",
              "  <tbody>\n",
              "    <tr>\n",
              "      <th>Montreal, QC</th>\n",
              "      <td>2.0</td>\n",
              "      <td>0.0</td>\n",
              "      <td>0.0</td>\n",
              "    </tr>\n",
              "    <tr>\n",
              "      <th>Anhui</th>\n",
              "      <td>23988.0</td>\n",
              "      <td>113.0</td>\n",
              "      <td>9328.0</td>\n",
              "    </tr>\n",
              "    <tr>\n",
              "      <th>Ashland, NE</th>\n",
              "      <td>11.0</td>\n",
              "      <td>0.0</td>\n",
              "      <td>0.0</td>\n",
              "    </tr>\n",
              "    <tr>\n",
              "      <th>Beijing</th>\n",
              "      <td>9968.0</td>\n",
              "      <td>93.0</td>\n",
              "      <td>3209.0</td>\n",
              "    </tr>\n",
              "    <tr>\n",
              "      <th>Boston, MA</th>\n",
              "      <td>29.0</td>\n",
              "      <td>0.0</td>\n",
              "      <td>2.0</td>\n",
              "    </tr>\n",
              "    <tr>\n",
              "      <th>...</th>\n",
              "      <td>...</td>\n",
              "      <td>...</td>\n",
              "      <td>...</td>\n",
              "    </tr>\n",
              "    <tr>\n",
              "      <th>Victoria</th>\n",
              "      <td>119.0</td>\n",
              "      <td>0.0</td>\n",
              "      <td>68.0</td>\n",
              "    </tr>\n",
              "    <tr>\n",
              "      <th>Western Australia</th>\n",
              "      <td>2.0</td>\n",
              "      <td>0.0</td>\n",
              "      <td>0.0</td>\n",
              "    </tr>\n",
              "    <tr>\n",
              "      <th>Xinjiang</th>\n",
              "      <td>1705.0</td>\n",
              "      <td>27.0</td>\n",
              "      <td>434.0</td>\n",
              "    </tr>\n",
              "    <tr>\n",
              "      <th>Yunnan</th>\n",
              "      <td>4483.0</td>\n",
              "      <td>21.0</td>\n",
              "      <td>1707.0</td>\n",
              "    </tr>\n",
              "    <tr>\n",
              "      <th>Zhejiang</th>\n",
              "      <td>31295.0</td>\n",
              "      <td>10.0</td>\n",
              "      <td>13126.0</td>\n",
              "    </tr>\n",
              "  </tbody>\n",
              "</table>\n",
              "<p>101 rows × 3 columns</p>\n",
              "</div>"
            ],
            "text/plain": [
              "                   Confirmed  Deaths  Recovered\n",
              "Province/State                                 \n",
              " Montreal, QC            2.0     0.0        0.0\n",
              "Anhui                23988.0   113.0     9328.0\n",
              "Ashland, NE             11.0     0.0        0.0\n",
              "Beijing               9968.0    93.0     3209.0\n",
              "Boston, MA              29.0     0.0        2.0\n",
              "...                      ...     ...        ...\n",
              "Victoria               119.0     0.0       68.0\n",
              "Western Australia        2.0     0.0        0.0\n",
              "Xinjiang              1705.0    27.0      434.0\n",
              "Yunnan                4483.0    21.0     1707.0\n",
              "Zhejiang             31295.0    10.0    13126.0\n",
              "\n",
              "[101 rows x 3 columns]"
            ]
          },
          "metadata": {
            "tags": []
          },
          "execution_count": 110
        }
      ]
    },
    {
      "cell_type": "markdown",
      "metadata": {
        "id": "jXExkejliyRQ",
        "colab_type": "text"
      },
      "source": [
        "#* As done in previous months we made the single dataset by combining the all the datasets for the month of March.\n",
        "#* But here Latitude and Longitude also included in the columns."
      ]
    },
    {
      "cell_type": "code",
      "metadata": {
        "id": "DZPxHs-uLBNE",
        "colab_type": "code",
        "colab": {}
      },
      "source": [
        "march=[]\n",
        "for i in range(1,10):\n",
        "  x=pd.read_csv('https://raw.githubusercontent.com/CSSEGISandData/COVID-19/master/csse_covid_19_data/csse_covid_19_daily_reports/03-0{}-2020.csv'.format(i))\n",
        "  march.append(x)\n",
        "for j in range(10):\n",
        "  y=pd.read_csv('https://raw.githubusercontent.com/CSSEGISandData/COVID-19/master/csse_covid_19_data/csse_covid_19_daily_reports/03-1{}-2020.csv'.format(j))\n",
        "  march.append(y)\n",
        "for k in range(8):\n",
        "  z=pd.read_csv('https://raw.githubusercontent.com/CSSEGISandData/COVID-19/master/csse_covid_19_data/csse_covid_19_daily_reports/03-2{}-2020.csv'.format(k))\n",
        "  march.append(z)\n"
      ],
      "execution_count": 0,
      "outputs": []
    },
    {
      "cell_type": "code",
      "metadata": {
        "colab_type": "code",
        "id": "6snEyV-1qXNh",
        "colab": {}
      },
      "source": [
        "for i in range(21):\n",
        "  march[i]=march[i].dropna(subset=['Province/State'],how='any')\n",
        "  march[i]=march[i].drop(['Country/Region','Last Update'],axis=1)\n",
        "  march[i]=march[i].set_index('Province/State')"
      ],
      "execution_count": 0,
      "outputs": []
    },
    {
      "cell_type": "code",
      "metadata": {
        "id": "pX-2bxpJ_m3P",
        "colab_type": "code",
        "outputId": "c9f869b1-7d83-4c9d-e561-ba85837221b1",
        "colab": {
          "base_uri": "https://localhost:8080/",
          "height": 437
        }
      },
      "source": [
        "for i in range(1,21):\n",
        "  march[0]=march[0].add(march[i],fill_value=0)\n",
        "march[0]"
      ],
      "execution_count": 113,
      "outputs": [
        {
          "output_type": "execute_result",
          "data": {
            "text/html": [
              "<div>\n",
              "<style scoped>\n",
              "    .dataframe tbody tr th:only-of-type {\n",
              "        vertical-align: middle;\n",
              "    }\n",
              "\n",
              "    .dataframe tbody tr th {\n",
              "        vertical-align: top;\n",
              "    }\n",
              "\n",
              "    .dataframe thead th {\n",
              "        text-align: right;\n",
              "    }\n",
              "</style>\n",
              "<table border=\"1\" class=\"dataframe\">\n",
              "  <thead>\n",
              "    <tr style=\"text-align: right;\">\n",
              "      <th></th>\n",
              "      <th>Confirmed</th>\n",
              "      <th>Deaths</th>\n",
              "      <th>Recovered</th>\n",
              "      <th>Latitude</th>\n",
              "      <th>Longitude</th>\n",
              "    </tr>\n",
              "    <tr>\n",
              "      <th>Province/State</th>\n",
              "      <th></th>\n",
              "      <th></th>\n",
              "      <th></th>\n",
              "      <th></th>\n",
              "      <th></th>\n",
              "    </tr>\n",
              "  </thead>\n",
              "  <tbody>\n",
              "    <tr>\n",
              "      <th>Montreal, QC</th>\n",
              "      <td>15.0</td>\n",
              "      <td>0.0</td>\n",
              "      <td>0.0</td>\n",
              "      <td>364.013600</td>\n",
              "      <td>-588.538400</td>\n",
              "    </tr>\n",
              "    <tr>\n",
              "      <th>Norfolk County, MA</th>\n",
              "      <td>7.0</td>\n",
              "      <td>0.0</td>\n",
              "      <td>0.0</td>\n",
              "      <td>210.883500</td>\n",
              "      <td>-355.724500</td>\n",
              "    </tr>\n",
              "    <tr>\n",
              "      <th>Alabama</th>\n",
              "      <td>429.0</td>\n",
              "      <td>0.0</td>\n",
              "      <td>0.0</td>\n",
              "      <td>290.863800</td>\n",
              "      <td>-782.120700</td>\n",
              "    </tr>\n",
              "    <tr>\n",
              "      <th>Alameda County, CA</th>\n",
              "      <td>6.0</td>\n",
              "      <td>0.0</td>\n",
              "      <td>0.0</td>\n",
              "      <td>112.805100</td>\n",
              "      <td>-365.158500</td>\n",
              "    </tr>\n",
              "    <tr>\n",
              "      <th>Alaska</th>\n",
              "      <td>48.0</td>\n",
              "      <td>0.0</td>\n",
              "      <td>0.0</td>\n",
              "      <td>675.077716</td>\n",
              "      <td>-1676.448419</td>\n",
              "    </tr>\n",
              "    <tr>\n",
              "      <th>...</th>\n",
              "      <td>...</td>\n",
              "      <td>...</td>\n",
              "      <td>...</td>\n",
              "      <td>...</td>\n",
              "      <td>...</td>\n",
              "    </tr>\n",
              "    <tr>\n",
              "      <th>Wyoming</th>\n",
              "      <td>96.0</td>\n",
              "      <td>0.0</td>\n",
              "      <td>0.0</td>\n",
              "      <td>513.071966</td>\n",
              "      <td>-1287.629990</td>\n",
              "    </tr>\n",
              "    <tr>\n",
              "      <th>Xinjiang</th>\n",
              "      <td>1596.0</td>\n",
              "      <td>63.0</td>\n",
              "      <td>1502.0</td>\n",
              "      <td>863.370900</td>\n",
              "      <td>1790.042100</td>\n",
              "    </tr>\n",
              "    <tr>\n",
              "      <th>Yolo County, CA</th>\n",
              "      <td>4.0</td>\n",
              "      <td>0.0</td>\n",
              "      <td>0.0</td>\n",
              "      <td>155.058400</td>\n",
              "      <td>-487.607200</td>\n",
              "    </tr>\n",
              "    <tr>\n",
              "      <th>Yunnan</th>\n",
              "      <td>3666.0</td>\n",
              "      <td>42.0</td>\n",
              "      <td>3574.0</td>\n",
              "      <td>524.454000</td>\n",
              "      <td>2131.227000</td>\n",
              "    </tr>\n",
              "    <tr>\n",
              "      <th>Zhejiang</th>\n",
              "      <td>25628.0</td>\n",
              "      <td>21.0</td>\n",
              "      <td>24589.0</td>\n",
              "      <td>612.847200</td>\n",
              "      <td>2521.961400</td>\n",
              "    </tr>\n",
              "  </tbody>\n",
              "</table>\n",
              "<p>2456 rows × 5 columns</p>\n",
              "</div>"
            ],
            "text/plain": [
              "                     Confirmed  Deaths  Recovered    Latitude    Longitude\n",
              "Province/State                                                            \n",
              " Montreal, QC             15.0     0.0        0.0  364.013600  -588.538400\n",
              " Norfolk County, MA        7.0     0.0        0.0  210.883500  -355.724500\n",
              "Alabama                  429.0     0.0        0.0  290.863800  -782.120700\n",
              "Alameda County, CA         6.0     0.0        0.0  112.805100  -365.158500\n",
              "Alaska                    48.0     0.0        0.0  675.077716 -1676.448419\n",
              "...                        ...     ...        ...         ...          ...\n",
              "Wyoming                   96.0     0.0        0.0  513.071966 -1287.629990\n",
              "Xinjiang                1596.0    63.0     1502.0  863.370900  1790.042100\n",
              "Yolo County, CA            4.0     0.0        0.0  155.058400  -487.607200\n",
              "Yunnan                  3666.0    42.0     3574.0  524.454000  2131.227000\n",
              "Zhejiang               25628.0    21.0    24589.0  612.847200  2521.961400\n",
              "\n",
              "[2456 rows x 5 columns]"
            ]
          },
          "metadata": {
            "tags": []
          },
          "execution_count": 113
        }
      ]
    },
    {
      "cell_type": "markdown",
      "metadata": {
        "id": "93Ig3BZtjqi9",
        "colab_type": "text"
      },
      "source": [
        "#* We observed that january dataset contains 45 rows.\n",
        "#* February dataset contains 101 rows.\n",
        "#* March dataset contain 2456 rows.\n",
        "#* After that we combine all the three datasets in to in single dataset which contains 2487 rows."
      ]
    },
    {
      "cell_type": "code",
      "metadata": {
        "id": "Z7usWCdlqb_M",
        "colab_type": "code",
        "outputId": "41b6f6dd-401a-4871-ef1c-bcb4f0c0362c",
        "colab": {
          "base_uri": "https://localhost:8080/",
          "height": 407
        }
      },
      "source": [
        "resultant=january[0].add(february[0],fill_value=0)\n",
        "resultant=resultant.add(march[0],fill_value=0)\n",
        "resultant=resultant.dropna(axis=0)\n",
        "df=resultant.reset_index().drop(\"Province/State\",axis=1)\n",
        "df=pd.DataFrame(df[[\"Latitude\",\"Longitude\",\"Confirmed\",\"Deaths\",\"Recovered\"]],dtype=\"int64\")\n",
        "df"
      ],
      "execution_count": 114,
      "outputs": [
        {
          "output_type": "execute_result",
          "data": {
            "text/html": [
              "<div>\n",
              "<style scoped>\n",
              "    .dataframe tbody tr th:only-of-type {\n",
              "        vertical-align: middle;\n",
              "    }\n",
              "\n",
              "    .dataframe tbody tr th {\n",
              "        vertical-align: top;\n",
              "    }\n",
              "\n",
              "    .dataframe thead th {\n",
              "        text-align: right;\n",
              "    }\n",
              "</style>\n",
              "<table border=\"1\" class=\"dataframe\">\n",
              "  <thead>\n",
              "    <tr style=\"text-align: right;\">\n",
              "      <th></th>\n",
              "      <th>Latitude</th>\n",
              "      <th>Longitude</th>\n",
              "      <th>Confirmed</th>\n",
              "      <th>Deaths</th>\n",
              "      <th>Recovered</th>\n",
              "    </tr>\n",
              "  </thead>\n",
              "  <tbody>\n",
              "    <tr>\n",
              "      <th>0</th>\n",
              "      <td>364</td>\n",
              "      <td>-588</td>\n",
              "      <td>17</td>\n",
              "      <td>0</td>\n",
              "      <td>0</td>\n",
              "    </tr>\n",
              "    <tr>\n",
              "      <th>1</th>\n",
              "      <td>210</td>\n",
              "      <td>-355</td>\n",
              "      <td>7</td>\n",
              "      <td>0</td>\n",
              "      <td>0</td>\n",
              "    </tr>\n",
              "    <tr>\n",
              "      <th>2</th>\n",
              "      <td>290</td>\n",
              "      <td>-782</td>\n",
              "      <td>429</td>\n",
              "      <td>0</td>\n",
              "      <td>0</td>\n",
              "    </tr>\n",
              "    <tr>\n",
              "      <th>3</th>\n",
              "      <td>112</td>\n",
              "      <td>-365</td>\n",
              "      <td>6</td>\n",
              "      <td>0</td>\n",
              "      <td>0</td>\n",
              "    </tr>\n",
              "    <tr>\n",
              "      <th>4</th>\n",
              "      <td>675</td>\n",
              "      <td>-1676</td>\n",
              "      <td>48</td>\n",
              "      <td>0</td>\n",
              "      <td>0</td>\n",
              "    </tr>\n",
              "    <tr>\n",
              "      <th>...</th>\n",
              "      <td>...</td>\n",
              "      <td>...</td>\n",
              "      <td>...</td>\n",
              "      <td>...</td>\n",
              "      <td>...</td>\n",
              "    </tr>\n",
              "    <tr>\n",
              "      <th>2482</th>\n",
              "      <td>513</td>\n",
              "      <td>-1287</td>\n",
              "      <td>96</td>\n",
              "      <td>0</td>\n",
              "      <td>0</td>\n",
              "    </tr>\n",
              "    <tr>\n",
              "      <th>2483</th>\n",
              "      <td>863</td>\n",
              "      <td>1790</td>\n",
              "      <td>3371</td>\n",
              "      <td>90</td>\n",
              "      <td>1936</td>\n",
              "    </tr>\n",
              "    <tr>\n",
              "      <th>2484</th>\n",
              "      <td>155</td>\n",
              "      <td>-487</td>\n",
              "      <td>4</td>\n",
              "      <td>0</td>\n",
              "      <td>0</td>\n",
              "    </tr>\n",
              "    <tr>\n",
              "      <th>2485</th>\n",
              "      <td>524</td>\n",
              "      <td>2131</td>\n",
              "      <td>8462</td>\n",
              "      <td>63</td>\n",
              "      <td>5282</td>\n",
              "    </tr>\n",
              "    <tr>\n",
              "      <th>2486</th>\n",
              "      <td>612</td>\n",
              "      <td>2521</td>\n",
              "      <td>58732</td>\n",
              "      <td>31</td>\n",
              "      <td>37743</td>\n",
              "    </tr>\n",
              "  </tbody>\n",
              "</table>\n",
              "<p>2487 rows × 5 columns</p>\n",
              "</div>"
            ],
            "text/plain": [
              "      Latitude  Longitude  Confirmed  Deaths  Recovered\n",
              "0          364       -588         17       0          0\n",
              "1          210       -355          7       0          0\n",
              "2          290       -782        429       0          0\n",
              "3          112       -365          6       0          0\n",
              "4          675      -1676         48       0          0\n",
              "...        ...        ...        ...     ...        ...\n",
              "2482       513      -1287         96       0          0\n",
              "2483       863       1790       3371      90       1936\n",
              "2484       155       -487          4       0          0\n",
              "2485       524       2131       8462      63       5282\n",
              "2486       612       2521      58732      31      37743\n",
              "\n",
              "[2487 rows x 5 columns]"
            ]
          },
          "metadata": {
            "tags": []
          },
          "execution_count": 114
        }
      ]
    },
    {
      "cell_type": "code",
      "metadata": {
        "id": "alnbA-S5XZsj",
        "colab_type": "code",
        "outputId": "0f6cbd2b-0be3-483a-d156-b8b0165f812a",
        "colab": {
          "base_uri": "https://localhost:8080/",
          "height": 407
        }
      },
      "source": [
        "dff=pd.DataFrame(df[[\"Latitude\",\"Longitude\"]])\n",
        "dff"
      ],
      "execution_count": 115,
      "outputs": [
        {
          "output_type": "execute_result",
          "data": {
            "text/html": [
              "<div>\n",
              "<style scoped>\n",
              "    .dataframe tbody tr th:only-of-type {\n",
              "        vertical-align: middle;\n",
              "    }\n",
              "\n",
              "    .dataframe tbody tr th {\n",
              "        vertical-align: top;\n",
              "    }\n",
              "\n",
              "    .dataframe thead th {\n",
              "        text-align: right;\n",
              "    }\n",
              "</style>\n",
              "<table border=\"1\" class=\"dataframe\">\n",
              "  <thead>\n",
              "    <tr style=\"text-align: right;\">\n",
              "      <th></th>\n",
              "      <th>Latitude</th>\n",
              "      <th>Longitude</th>\n",
              "    </tr>\n",
              "  </thead>\n",
              "  <tbody>\n",
              "    <tr>\n",
              "      <th>0</th>\n",
              "      <td>364</td>\n",
              "      <td>-588</td>\n",
              "    </tr>\n",
              "    <tr>\n",
              "      <th>1</th>\n",
              "      <td>210</td>\n",
              "      <td>-355</td>\n",
              "    </tr>\n",
              "    <tr>\n",
              "      <th>2</th>\n",
              "      <td>290</td>\n",
              "      <td>-782</td>\n",
              "    </tr>\n",
              "    <tr>\n",
              "      <th>3</th>\n",
              "      <td>112</td>\n",
              "      <td>-365</td>\n",
              "    </tr>\n",
              "    <tr>\n",
              "      <th>4</th>\n",
              "      <td>675</td>\n",
              "      <td>-1676</td>\n",
              "    </tr>\n",
              "    <tr>\n",
              "      <th>...</th>\n",
              "      <td>...</td>\n",
              "      <td>...</td>\n",
              "    </tr>\n",
              "    <tr>\n",
              "      <th>2482</th>\n",
              "      <td>513</td>\n",
              "      <td>-1287</td>\n",
              "    </tr>\n",
              "    <tr>\n",
              "      <th>2483</th>\n",
              "      <td>863</td>\n",
              "      <td>1790</td>\n",
              "    </tr>\n",
              "    <tr>\n",
              "      <th>2484</th>\n",
              "      <td>155</td>\n",
              "      <td>-487</td>\n",
              "    </tr>\n",
              "    <tr>\n",
              "      <th>2485</th>\n",
              "      <td>524</td>\n",
              "      <td>2131</td>\n",
              "    </tr>\n",
              "    <tr>\n",
              "      <th>2486</th>\n",
              "      <td>612</td>\n",
              "      <td>2521</td>\n",
              "    </tr>\n",
              "  </tbody>\n",
              "</table>\n",
              "<p>2487 rows × 2 columns</p>\n",
              "</div>"
            ],
            "text/plain": [
              "      Latitude  Longitude\n",
              "0          364       -588\n",
              "1          210       -355\n",
              "2          290       -782\n",
              "3          112       -365\n",
              "4          675      -1676\n",
              "...        ...        ...\n",
              "2482       513      -1287\n",
              "2483       863       1790\n",
              "2484       155       -487\n",
              "2485       524       2131\n",
              "2486       612       2521\n",
              "\n",
              "[2487 rows x 2 columns]"
            ]
          },
          "metadata": {
            "tags": []
          },
          "execution_count": 115
        }
      ]
    },
    {
      "cell_type": "code",
      "metadata": {
        "id": "L7vUfLryrLe_",
        "colab_type": "code",
        "colab": {}
      },
      "source": [
        "#we import standard libraries\n",
        "import numpy as np\n",
        "import pandas as dp\n",
        "import matplotlib.pyplot as plt\n",
        "import seaborn as sns\n",
        "from sklearn.cluster import KMeans\n"
      ],
      "execution_count": 0,
      "outputs": []
    },
    {
      "cell_type": "code",
      "metadata": {
        "id": "5MvIhg-s3cIZ",
        "colab_type": "code",
        "outputId": "ddee5554-b197-42b5-a0ab-c87950a0c276",
        "colab": {
          "base_uri": "https://localhost:8080/",
          "height": 145
        }
      },
      "source": [
        "x=np.array(df)\n",
        "x"
      ],
      "execution_count": 117,
      "outputs": [
        {
          "output_type": "execute_result",
          "data": {
            "text/plain": [
              "array([[  364,  -588,    17,     0,     0],\n",
              "       [  210,  -355,     7,     0,     0],\n",
              "       [  290,  -782,   429,     0,     0],\n",
              "       ...,\n",
              "       [  155,  -487,     4,     0,     0],\n",
              "       [  524,  2131,  8462,    63,  5282],\n",
              "       [  612,  2521, 58732,    31, 37743]])"
            ]
          },
          "metadata": {
            "tags": []
          },
          "execution_count": 117
        }
      ]
    },
    {
      "cell_type": "code",
      "metadata": {
        "id": "ucmMPqFLXsOJ",
        "colab_type": "code",
        "outputId": "00c0a788-98ff-48b3-a370-d71675e7c1ae",
        "colab": {
          "base_uri": "https://localhost:8080/",
          "height": 145
        }
      },
      "source": [
        "y=np.array(dff)\n",
        "y"
      ],
      "execution_count": 118,
      "outputs": [
        {
          "output_type": "execute_result",
          "data": {
            "text/plain": [
              "array([[ 364, -588],\n",
              "       [ 210, -355],\n",
              "       [ 290, -782],\n",
              "       ...,\n",
              "       [ 155, -487],\n",
              "       [ 524, 2131],\n",
              "       [ 612, 2521]])"
            ]
          },
          "metadata": {
            "tags": []
          },
          "execution_count": 118
        }
      ]
    },
    {
      "cell_type": "code",
      "metadata": {
        "id": "eTzt1Wc4X4mi",
        "colab_type": "code",
        "outputId": "a84b2c93-6032-4e3e-ee08-79276505098a",
        "colab": {
          "base_uri": "https://localhost:8080/",
          "height": 295
        }
      },
      "source": [
        "r=range(2,21)\n",
        "wss=[]\n",
        "for i in range(2,21):\n",
        "  kmeans=KMeans(n_clusters=i)\n",
        "  kmeans.fit(y)\n",
        "  ws=kmeans.inertia_\n",
        "  wss.append(ws)\n",
        "plt.plot(r,wss)"
      ],
      "execution_count": 119,
      "outputs": [
        {
          "output_type": "execute_result",
          "data": {
            "text/plain": [
              "[<matplotlib.lines.Line2D at 0x7f399f1b1978>]"
            ]
          },
          "metadata": {
            "tags": []
          },
          "execution_count": 119
        },
        {
          "output_type": "display_data",
          "data": {
            "image/png": "[encoded data removed]",
            "text/plain": [
              "<Figure size 432x288 with 1 Axes>"
            ]
          },
          "metadata": {
            "tags": []
          }
        }
      ]
    },
    {
      "cell_type": "code",
      "metadata": {
        "id": "hRfbqqJjkwTl",
        "colab_type": "code",
        "colab": {}
      },
      "source": [
        "conf=[]\n",
        "recover=[]\n",
        "death=[]\n",
        "for i,row in enumerate(df.iterrows()):\n",
        "  data=pd.DataFrame([row[1]])\n",
        "  conf=conf+[[data[\"Latitude\"][i],data[\"Longitude\"][i]]]*int(data[\"Confirmed\"][i])\n",
        "  death=death+[[data[\"Latitude\"][i],data[\"Longitude\"][i]]]*int(data[\"Deaths\"][i])\n",
        "  recover=recover+[[data[\"Latitude\"][i],data[\"Longitude\"][i]]]*int(data[\"Recovered\"][i])"
      ],
      "execution_count": 0,
      "outputs": []
    },
    {
      "cell_type": "code",
      "metadata": {
        "id": "KX_gfUxpiPkO",
        "colab_type": "code",
        "outputId": "4d4ca160-808f-424c-f80e-5c10b752bf75",
        "colab": {
          "base_uri": "https://localhost:8080/",
          "height": 283
        }
      },
      "source": [
        "j=np.array(conf)\n",
        "plt.scatter(j[:,1],j[:,0])"
      ],
      "execution_count": 121,
      "outputs": [
        {
          "output_type": "execute_result",
          "data": {
            "text/plain": [
              "<matplotlib.collections.PathCollection at 0x7f39b2f18a90>"
            ]
          },
          "metadata": {
            "tags": []
          },
          "execution_count": 121
        },
        {
          "output_type": "display_data",
          "data": {
            "image/png": "[encoded data removed]",
            "text/plain": [
              "<Figure size 432x288 with 1 Axes>"
            ]
          },
          "metadata": {
            "tags": []
          }
        }
      ]
    },
    {
      "cell_type": "code",
      "metadata": {
        "id": "SbOjsnVSpe1E",
        "colab_type": "code",
        "outputId": "c55a486e-2d8f-4ced-d21d-fb37798270ae",
        "colab": {
          "base_uri": "https://localhost:8080/",
          "height": 145
        }
      },
      "source": [
        "from sklearn.cluster import KMeans\n",
        "q=np.array(recover)\n",
        "q"
      ],
      "execution_count": 122,
      "outputs": [
        {
          "output_type": "execute_result",
          "data": {
            "text/plain": [
              "array([[ 668, 2461],\n",
              "       [ 668, 2461],\n",
              "       [ 668, 2461],\n",
              "       ...,\n",
              "       [ 612, 2521],\n",
              "       [ 612, 2521],\n",
              "       [ 612, 2521]])"
            ]
          },
          "metadata": {
            "tags": []
          },
          "execution_count": 122
        }
      ]
    },
    {
      "cell_type": "code",
      "metadata": {
        "id": "iMrjgth-qlal",
        "colab_type": "code",
        "colab": {}
      },
      "source": [
        "kms=KMeans(n_clusters=3)\n",
        "kms.fit(q)\n",
        "y_=kms.predict(q)\n"
      ],
      "execution_count": 0,
      "outputs": []
    },
    {
      "cell_type": "code",
      "metadata": {
        "id": "N4LbyNmIvRn7",
        "colab_type": "code",
        "outputId": "c70a2fa2-4d1e-47fb-9e84-7b6207a09218",
        "colab": {
          "base_uri": "https://localhost:8080/",
          "height": 265
        }
      },
      "source": [
        "plt.scatter(q[:,1],q[:,0],c=y_,s=25,cmap='viridis')\n",
        "centers=kms.cluster_centers_\n",
        "plt.scatter(centers[:,1],centers[:,0],c='red',marker='*',s=200,alpha=0.5);"
      ],
      "execution_count": 124,
      "outputs": [
        {
          "output_type": "display_data",
          "data": {
            "image/png": "[encoded data removed]",
            "text/plain": [
              "<Figure size 432x288 with 1 Axes>"
            ]
          },
          "metadata": {
            "tags": []
          }
        }
      ]
    },
    {
      "cell_type": "markdown",
      "metadata": {
        "id": "GCflt_ZdvNA8",
        "colab_type": "text"
      },
      "source": [
        "#* From the above clusters we can conclude that:\n",
        "#* Cluster 1 has mediun recovered cases.\n",
        "#* cluster 2 has least recovered cases.\n",
        "#* cluster three has maximum number of recovered cases."
      ]
    },
    {
      "cell_type": "code",
      "metadata": {
        "id": "M0z90gE2qHEg",
        "colab_type": "code",
        "outputId": "a1e31b79-2583-4c78-fe4b-6c4efd958dac",
        "colab": {
          "base_uri": "https://localhost:8080/",
          "height": 145
        }
      },
      "source": [
        "e=np.array(death)\n",
        "e"
      ],
      "execution_count": 125,
      "outputs": [
        {
          "output_type": "execute_result",
          "data": {
            "text/plain": [
              "array([[  701, -1515],\n",
              "       [  701, -1515],\n",
              "       [  668,  2461],\n",
              "       ...,\n",
              "       [  612,  2521],\n",
              "       [  612,  2521],\n",
              "       [  612,  2521]])"
            ]
          },
          "metadata": {
            "tags": []
          },
          "execution_count": 125
        }
      ]
    },
    {
      "cell_type": "code",
      "metadata": {
        "id": "v_eTCHXRqbnS",
        "colab_type": "code",
        "colab": {}
      },
      "source": [
        "kms=KMeans(n_clusters=3)\n",
        "kms.fit(e)\n",
        "y_pre=kms.predict(e)"
      ],
      "execution_count": 0,
      "outputs": []
    },
    {
      "cell_type": "code",
      "metadata": {
        "id": "vJJFEjJAqnf-",
        "colab_type": "code",
        "outputId": "10b5e4de-abcf-4b3e-c8c4-67324d4ceba8",
        "colab": {
          "base_uri": "https://localhost:8080/",
          "height": 265
        }
      },
      "source": [
        "plt.scatter(e[:,1],e[:,0],c=y_pre,s=25,cmap='viridis')\n",
        "centers=kms.cluster_centers_\n",
        "plt.scatter(centers[:,1],centers[:,0],c='red',marker='*',s=200,alpha=0.5);"
      ],
      "execution_count": 127,
      "outputs": [
        {
          "output_type": "display_data",
          "data": {
            "image/png": "[encoded data removed]",
            "text/plain": [
              "<Figure size 432x288 with 1 Axes>"
            ]
          },
          "metadata": {
            "tags": []
          }
        }
      ]
    },
    {
      "cell_type": "markdown",
      "metadata": {
        "id": "mBI-k4oiv4xD",
        "colab_type": "text"
      },
      "source": [
        "#* From the above clusters we can conclude that:\n",
        "#* cluster 1 has maximum number of the deaths.\n",
        "#* cluster two has minimum number of deaths.\n",
        "#* whereas cluster 3 has moderate death rate."
      ]
    },
    {
      "cell_type": "markdown",
      "metadata": {
        "id": "4C1nO1Z0l4AP",
        "colab_type": "text"
      },
      "source": [
        "#  **TEAM NAME:SRS**\n",
        "#TEAM MEMBERS:\n",
        "#1.19PA1A05JO:-Y.SANJAY\n",
        "#2.19PA1A05C9:-P.SATYA SANTOSH KUMAR\n",
        "#3.19PA1A05G4:-S.ROHITH KUMAR"
      ]
    }
  ]
}